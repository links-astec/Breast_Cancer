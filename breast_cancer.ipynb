{
  "nbformat": 4,
  "nbformat_minor": 0,
  "metadata": {
    "colab": {
      "provenance": [],
      "authorship_tag": "ABX9TyMf/jmOlwd9Ya5Bz/PnyiiH",
      "include_colab_link": true
    },
    "kernelspec": {
      "name": "python3",
      "display_name": "Python 3"
    },
    "language_info": {
      "name": "python"
    }
  },
  "cells": [
    {
      "cell_type": "markdown",
      "metadata": {
        "id": "view-in-github",
        "colab_type": "text"
      },
      "source": [
        "<a href=\"https://colab.research.google.com/github/links-astec/Breast_Cancer/blob/main/breast_cancer.ipynb\" target=\"_parent\"><img src=\"https://colab.research.google.com/assets/colab-badge.svg\" alt=\"Open In Colab\"/></a>"
      ]
    },
    {
      "cell_type": "code",
      "execution_count": null,
      "metadata": {
        "colab": {
          "base_uri": "https://localhost:8080/"
        },
        "id": "XLWh8La7fTrJ",
        "outputId": "92e49d10-2cf6-458b-8341-741da11acb36"
      },
      "outputs": [
        {
          "output_type": "stream",
          "name": "stdout",
          "text": [
            "Files extracted to 'your_extraction_path': ['breast']\n",
            "Found 1400 images belonging to 2 classes.\n",
            "Found 80 images belonging to 2 classes.\n",
            "Epoch 1/10\n",
            " 2/43 [>.............................] - ETA: 8:36 - loss: 0.9877 - accuracy: 0.5000 "
          ]
        }
      ],
      "source": [
        "import tensorflow as tf\n",
        "import os\n",
        "import zipfile\n",
        "\n",
        "rar_file_path = 'breast.rar'\n",
        "\n",
        "extraction_path = 'your_extraction_path'\n",
        "\n",
        "os.makedirs(extraction_path, exist_ok=True)\n",
        "\n",
        "\n",
        "os.system(f\"unrar x {rar_file_path} {extraction_path}\")\n",
        "\n",
        "extracted_files = os.listdir(extraction_path)\n",
        "print(f\"Files extracted to '{extraction_path}': {extracted_files}\")\n",
        "\n",
        "from keras.preprocessing.image import ImageDataGenerator\n",
        "from keras.models import Sequential\n",
        "from keras.layers import Conv2D, MaxPooling2D, Flatten, Dense\n",
        "\n",
        "# Set the path to your train and validation directories\n",
        "train_dir = '/content/your_extraction_path/breast/train'\n",
        "validation_dir = '/content/your_extraction_path/breast/validation'\n",
        "\n",
        "# Define image size and batch size\n",
        "img_size = (540, 250)\n",
        "batch_size = 32\n",
        "\n",
        "# Data augmentation for the training dataset\n",
        "train_datagen = ImageDataGenerator(\n",
        "    rescale=1./255,\n",
        "    shear_range=0.2,\n",
        "    zoom_range=0.2,\n",
        "    horizontal_flip=True\n",
        ")\n",
        "\n",
        "# Rescale the validation dataset\n",
        "validation_datagen = ImageDataGenerator(rescale=1./255)\n",
        "\n",
        "# Load and prepare the training dataset\n",
        "train_generator = train_datagen.flow_from_directory(\n",
        "    train_dir,\n",
        "    target_size=img_size,\n",
        "    batch_size=batch_size,\n",
        "    class_mode='binary'\n",
        ")\n",
        "\n",
        "# Load and prepare the validation dataset\n",
        "validation_generator = validation_datagen.flow_from_directory(\n",
        "    validation_dir,\n",
        "    target_size=img_size,\n",
        "    batch_size=batch_size,\n",
        "    class_mode='binary'\n",
        ")\n",
        "\n",
        "# Build the CNN model\n",
        "model = Sequential()\n",
        "\n",
        "model.add(Conv2D(32, (3, 3), activation='relu', input_shape=(540, 250, 3)))\n",
        "model.add(MaxPooling2D(2, 2))\n",
        "\n",
        "model.add(Conv2D(64, (3, 3), activation='relu'))\n",
        "model.add(MaxPooling2D(2, 2))\n",
        "\n",
        "model.add(Conv2D(128, (3, 3), activation='relu'))\n",
        "model.add(MaxPooling2D(2, 2))\n",
        "\n",
        "model.add(Flatten())\n",
        "model.add(Dense(512, activation='relu'))\n",
        "model.add(Dense(1, activation='sigmoid'))\n",
        "\n",
        "# Compile the model\n",
        "model.compile(\n",
        "    loss='binary_crossentropy',\n",
        "    optimizer=Adam(learning_rate=0.0001),\n",
        "    metrics=['accuracy']\n",
        ")\n",
        "\n",
        "# Train the model\n",
        "history = model.fit(\n",
        "    train_generator,\n",
        "    steps_per_epoch=train_generator.samples // batch_size,\n",
        "    epochs=10,\n",
        "    validation_data=validation_generator,\n",
        "    validation_steps=validation_generator.samples // batch_size\n",
        ")\n",
        "\n",
        "print(\"Accuracy: {:.2f}%\".format(history.history['accuracy'][-1] * 100))\n",
        "\n",
        "# Save the trained model\n",
        "model.save('breast_cancer_cnn.keras')\n"
      ]
    }
  ]
}